{
 "cells": [
  {
   "cell_type": "code",
   "execution_count": 5,
   "id": "9daa8c50-2dc0-472a-a9d7-08f47e987f54",
   "metadata": {},
   "outputs": [
    {
     "name": "stdout",
     "output_type": "stream",
     "text": [
      "Writing Ejercicio1.h\n"
     ]
    }
   ],
   "source": [
    "%%writefile Ejercicio1.h\n",
    "#ifndef EJERCICIOI_H\n",
    "#define EJERCICIOI_H\n",
    "\n",
    "#include <iostream>\n",
    "using namespace std;\n",
    "\n",
    "class EjercicioI {\n",
    "public:\n",
    "    EjercicioI();           // Constructor (puede quedar vacío)\n",
    "    void ejecutar();        // Método que recorre i y muestra \"Realizado\"\n",
    "};\n",
    "\n",
    "#endif\n"
   ]
  },
  {
   "cell_type": "code",
   "execution_count": 6,
   "id": "03276068-adb3-433b-a3e3-94352d990a68",
   "metadata": {},
   "outputs": [
    {
     "name": "stdout",
     "output_type": "stream",
     "text": [
      "Writing Ejercicio1.cpp\n"
     ]
    }
   ],
   "source": [
    "%%writefile Ejercicio1.cpp\n",
    "#include \"EjercicioI.h\"\n",
    "\n",
    "EjercicioI::EjercicioI() {\n",
    "    // Constructor: no requiere inicialización especial en este caso.\n",
    "}\n",
    "\n",
    "void EjercicioI::ejecutar() {\n",
    "    // Recorrer la variable i hasta 10 veces y mostrar su valor\n",
    "    for (int i = 0; i < 10; i++) {\n",
    "        cout << i << endl;\n",
    "    }\n",
    "    // Mostrar el mensaje \"Realizado\" una sola vez al finalizar\n",
    "    cout << \"Realizado\" << endl;\n",
    "}\n"
   ]
  },
  {
   "cell_type": "code",
   "execution_count": 7,
   "id": "86e90841-4676-41b6-9feb-2b923e27b373",
   "metadata": {},
   "outputs": [
    {
     "name": "stdout",
     "output_type": "stream",
     "text": [
      "Writing main1.cpp\n"
     ]
    }
   ],
   "source": [
    "%%writefile main1.cpp\n",
    "#include \"EjercicioI.h\"\n",
    "\n",
    "int main() {\n",
    "    EjercicioI obj;\n",
    "    obj.ejecutar();\n",
    "    return 0;\n",
    "}\n"
   ]
  },
  {
   "cell_type": "code",
   "execution_count": 9,
   "id": "db864bbb-1037-4b22-bad2-cb82754d71a2",
   "metadata": {},
   "outputs": [],
   "source": [
    "!g++ main1.cpp Ejercicio1.cpp -o ejercicio1\n"
   ]
  },
  {
   "cell_type": "code",
   "execution_count": 10,
   "id": "757b3355-4060-4fe9-bdd2-70a4dbeaf928",
   "metadata": {},
   "outputs": [
    {
     "name": "stdout",
     "output_type": "stream",
     "text": [
      "Writing Ejercicio2.h\n"
     ]
    }
   ],
   "source": [
    "%%writefile Ejercicio2.h\n",
    "#ifndef EJERCICIO2_H\n",
    "#define EJERCICIO2_H\n",
    "\n",
    "#include <iostream>\n",
    "\n",
    "class Ejercicio2 {\n",
    "public:\n",
    "    Ejercicio2(int inicio, int fin, int incremento);\n",
    "    void imprimirRango();\n",
    "private:\n",
    "    int inicio;\n",
    "    int fin;\n",
    "    int incremento;\n",
    "};\n",
    "\n",
    "#endif\n"
   ]
  },
  {
   "cell_type": "code",
   "execution_count": 11,
   "id": "5d1930ab-cb8d-4637-a49e-3b8d7c1dde46",
   "metadata": {},
   "outputs": [
    {
     "name": "stdout",
     "output_type": "stream",
     "text": [
      "Writing Ejercicio2.cpp\n"
     ]
    }
   ],
   "source": [
    "%%writefile Ejercicio2.cpp\n",
    "#include \"Ejercicio2.h\"\n",
    "\n",
    "Ejercicio2::Ejercicio2(int inicio, int fin, int incremento) {\n",
    "    this->inicio = inicio;\n",
    "    this->fin = fin;\n",
    "    this->incremento = incremento;\n",
    "}\n",
    "\n",
    "void Ejercicio2::imprimirRango() {\n",
    "    std::cout << \"Imprimiendo valores en un rango con incremento de \" << incremento << \":\" << std::endl;\n",
    "    \n",
    "    for (int i = inicio; i <= fin; i += incremento) {\n",
    "        std::cout << i << std::endl;\n",
    "    }\n",
    "\n",
    "    std::cout << \"Realizado\" << std::endl;\n",
    "}\n"
   ]
  },
  {
   "cell_type": "code",
   "execution_count": 12,
   "id": "44db8ba7-39d0-47be-897f-ea96a3a4f4dc",
   "metadata": {},
   "outputs": [
    {
     "name": "stdout",
     "output_type": "stream",
     "text": [
      "Writing main.cpp\n"
     ]
    }
   ],
   "source": [
    "%%writefile main.cpp\n",
    "#include \"Ejercicio2.h\"\n",
    "\n",
    "int main() {\n",
    "    Ejercicio2 ejercicio(0, 20, 2);\n",
    "    ejercicio.imprimirRango();\n",
    "    return 0;\n",
    "}\n"
   ]
  },
  {
   "cell_type": "code",
   "execution_count": 14,
   "id": "66d71aca-cb72-4eb0-b847-25dbb74e7d67",
   "metadata": {},
   "outputs": [],
   "source": [
    "!g++ Ejercicio2.cpp main.cpp -o ejercicio2\n"
   ]
  },
  {
   "cell_type": "code",
   "execution_count": 15,
   "id": "003107b0-c212-415c-a48a-3ef447673496",
   "metadata": {},
   "outputs": [
    {
     "name": "stdout",
     "output_type": "stream",
     "text": [
      "Writing Ejercicio3.h\n"
     ]
    }
   ],
   "source": [
    "%%writefile Ejercicio3.h\n",
    "#ifndef EJERCICIO3_H\n",
    "#define EJERCICIO3_H\n",
    "\n",
    "#include <iostream>\n",
    "\n",
    "class Ejercicio3 {\n",
    "public:\n",
    "    Ejercicio3(int repeticiones);\n",
    "    void ejecutar();\n",
    "private:\n",
    "    int repeticiones;\n",
    "};\n",
    "\n",
    "#endif\n"
   ]
  },
  {
   "cell_type": "code",
   "execution_count": 16,
   "id": "f22f0f3a-9dd7-4229-b0d4-eb3c9bf7d220",
   "metadata": {},
   "outputs": [
    {
     "name": "stdout",
     "output_type": "stream",
     "text": [
      "Writing Ejercicio3.cpp\n"
     ]
    }
   ],
   "source": [
    "%%writefile Ejercicio3.cpp\n",
    "#include \"Ejercicio3.h\"\n",
    "\n",
    "Ejercicio3::Ejercicio3(int repeticiones) {\n",
    "    this->repeticiones = repeticiones;\n",
    "}\n",
    "\n",
    "void Ejercicio3::ejecutar() {\n",
    "    for (int _ = 0; _ < repeticiones; _++) { // Variable anónima \"_\"\n",
    "        std::cout << \"Iteración en progreso...\" << std::endl;\n",
    "    }\n",
    "\n",
    "    std::cout << \"Realizado\" << std::endl;\n",
    "}\n"
   ]
  },
  {
   "cell_type": "code",
   "execution_count": 17,
   "id": "8717d470-fcc0-4cf9-97d3-2ad7dbe9124a",
   "metadata": {},
   "outputs": [
    {
     "name": "stdout",
     "output_type": "stream",
     "text": [
      "Overwriting main.cpp\n"
     ]
    }
   ],
   "source": [
    "%%writefile main.cpp\n",
    "#include \"Ejercicio3.h\"\n",
    "\n",
    "int main() {\n",
    "    Ejercicio3 ejercicio(10); // Ejecutar el bucle 10 veces\n",
    "    ejercicio.ejecutar();\n",
    "    return 0;\n",
    "}\n"
   ]
  },
  {
   "cell_type": "code",
   "execution_count": 18,
   "id": "4895a3f5-df5f-42d9-802a-41f25784c56d",
   "metadata": {},
   "outputs": [],
   "source": [
    "!g++ Ejercicio3.cpp main.cpp -o ejercicio3\n"
   ]
  },
  {
   "cell_type": "code",
   "execution_count": 19,
   "id": "92561ea3-e321-402c-bf9e-1dbc6dd9ff27",
   "metadata": {},
   "outputs": [
    {
     "name": "stdout",
     "output_type": "stream",
     "text": [
      "Writing Ejercicio4.h\n"
     ]
    }
   ],
   "source": [
    "%%writefile Ejercicio4.h\n",
    "#ifndef EJERCICIO4_H\n",
    "#define EJERCICIO4_H\n",
    "\n",
    "#include <iostream>\n",
    "\n",
    "class Ejercicio4 {\n",
    "public:\n",
    "    Ejercicio4(int numeroUsuario);\n",
    "    void ejecutar();\n",
    "private:\n",
    "    int numeroUsuario;\n",
    "};\n",
    "\n",
    "#endif\n"
   ]
  },
  {
   "cell_type": "code",
   "execution_count": 20,
   "id": "0fd2398f-eeb5-4c26-bf0c-28532f878f7b",
   "metadata": {},
   "outputs": [
    {
     "name": "stdout",
     "output_type": "stream",
     "text": [
      "Writing Ejercicio4.cpp\n"
     ]
    }
   ],
   "source": [
    "%%writefile Ejercicio4.cpp\n",
    "#include \"Ejercicio4.h\"\n",
    "\n",
    "Ejercicio4::Ejercicio4(int numeroUsuario) {\n",
    "    this->numeroUsuario = numeroUsuario;\n",
    "}\n",
    "\n",
    "void Ejercicio4::ejecutar() {\n",
    "    for (int i = 1; i <= 5; i++) {\n",
    "        std::cout << \"Iteración: \" << i << std::endl;\n",
    "        \n",
    "        if (i == numeroUsuario) {\n",
    "            std::cout << \"El número \" << numeroUsuario << \" coincide con la iteración \" << i << \".\" << std::endl;\n",
    "        }\n",
    "    }\n",
    "\n",
    "    std::cout << \"Hecho\" << std::endl;\n",
    "}\n"
   ]
  },
  {
   "cell_type": "code",
   "execution_count": null,
   "id": "d5128669-94a2-45d8-9084-932e75d27d1c",
   "metadata": {},
   "outputs": [],
   "source": [
    "%%writefile main.cpp\n",
    "#include \"Ejercicio4.h\"\n",
    "\n",
    "int main() {\n",
    "    int numeroUsuario;\n",
    "    std::cout << \"Ingrese un número para comparar con las iteraciones: \";\n",
    "    std::cin >> numeroUsuario;\n",
    "\n",
    "    Ejercicio4 ejercicio(numeroUsuario);\n",
    "    ejercicio.ejecutar();\n",
    "\n",
    "    return 0;\n",
    "}\n"
   ]
  },
  {
   "cell_type": "code",
   "execution_count": null,
   "id": "8b192b45-4888-4e87-af3c-887815792ca2",
   "metadata": {},
   "outputs": [],
   "source": [
    "!g++ Ejercicio4.cpp main.cpp -o ejercicio4\n"
   ]
  }
 ],
 "metadata": {
  "kernelspec": {
   "display_name": "Python 3 (ipykernel)",
   "language": "python",
   "name": "python3"
  },
  "language_info": {
   "codemirror_mode": {
    "name": "ipython",
    "version": 3
   },
   "file_extension": ".py",
   "mimetype": "text/x-python",
   "name": "python",
   "nbconvert_exporter": "python",
   "pygments_lexer": "ipython3",
   "version": "3.12.3"
  }
 },
 "nbformat": 4,
 "nbformat_minor": 5
}
