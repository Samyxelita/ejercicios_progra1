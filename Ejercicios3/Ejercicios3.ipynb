{
 "cells": [
  {
   "cell_type": "code",
   "execution_count": 5,
   "id": "9daa8c50-2dc0-472a-a9d7-08f47e987f54",
   "metadata": {},
   "outputs": [
    {
     "name": "stdout",
     "output_type": "stream",
     "text": [
      "Writing Ejercicio1.h\n"
     ]
    }
   ],
   "source": [
    "%%writefile Ejercicio1.h\n",
    "#ifndef EJERCICIOI_H\n",
    "#define EJERCICIOI_H\n",
    "\n",
    "#include <iostream>\n",
    "using namespace std;\n",
    "\n",
    "class EjercicioI {\n",
    "public:\n",
    "    EjercicioI();           // Constructor (puede quedar vacío)\n",
    "    void ejecutar();        // Método que recorre i y muestra \"Realizado\"\n",
    "};\n",
    "\n",
    "#endif\n"
   ]
  },
  {
   "cell_type": "code",
   "execution_count": 6,
   "id": "03276068-adb3-433b-a3e3-94352d990a68",
   "metadata": {},
   "outputs": [
    {
     "name": "stdout",
     "output_type": "stream",
     "text": [
      "Writing Ejercicio1.cpp\n"
     ]
    }
   ],
   "source": [
    "%%writefile Ejercicio1.cpp\n",
    "#include \"EjercicioI.h\"\n",
    "\n",
    "EjercicioI::EjercicioI() {\n",
    "    // Constructor: no requiere inicialización especial en este caso.\n",
    "}\n",
    "\n",
    "void EjercicioI::ejecutar() {\n",
    "    // Recorrer la variable i hasta 10 veces y mostrar su valor\n",
    "    for (int i = 0; i < 10; i++) {\n",
    "        cout << i << endl;\n",
    "    }\n",
    "    // Mostrar el mensaje \"Realizado\" una sola vez al finalizar\n",
    "    cout << \"Realizado\" << endl;\n",
    "}\n"
   ]
  },
  {
   "cell_type": "code",
   "execution_count": 7,
   "id": "86e90841-4676-41b6-9feb-2b923e27b373",
   "metadata": {},
   "outputs": [
    {
     "name": "stdout",
     "output_type": "stream",
     "text": [
      "Writing main1.cpp\n"
     ]
    }
   ],
   "source": [
    "%%writefile main1.cpp\n",
    "#include \"EjercicioI.h\"\n",
    "\n",
    "int main() {\n",
    "    EjercicioI obj;\n",
    "    obj.ejecutar();\n",
    "    return 0;\n",
    "}\n"
   ]
  },
  {
   "cell_type": "code",
   "execution_count": 9,
   "id": "db864bbb-1037-4b22-bad2-cb82754d71a2",
   "metadata": {},
   "outputs": [],
   "source": [
    "!g++ main1.cpp Ejercicio1.cpp -o ejercicio1\n"
   ]
  },
  {
   "cell_type": "code",
   "execution_count": 10,
   "id": "757b3355-4060-4fe9-bdd2-70a4dbeaf928",
   "metadata": {},
   "outputs": [
    {
     "name": "stdout",
     "output_type": "stream",
     "text": [
      "Writing Ejercicio2.h\n"
     ]
    }
   ],
   "source": [
    "%%writefile Ejercicio2.h\n",
    "#ifndef EJERCICIO2_H\n",
    "#define EJERCICIO2_H\n",
    "\n",
    "#include <iostream>\n",
    "\n",
    "class Ejercicio2 {\n",
    "public:\n",
    "    Ejercicio2(int inicio, int fin, int incremento);\n",
    "    void imprimirRango();\n",
    "private:\n",
    "    int inicio;\n",
    "    int fin;\n",
    "    int incremento;\n",
    "};\n",
    "\n",
    "#endif\n"
   ]
  },
  {
   "cell_type": "code",
   "execution_count": 11,
   "id": "5d1930ab-cb8d-4637-a49e-3b8d7c1dde46",
   "metadata": {},
   "outputs": [
    {
     "name": "stdout",
     "output_type": "stream",
     "text": [
      "Writing Ejercicio2.cpp\n"
     ]
    }
   ],
   "source": [
    "%%writefile Ejercicio2.cpp\n",
    "#include \"Ejercicio2.h\"\n",
    "\n",
    "Ejercicio2::Ejercicio2(int inicio, int fin, int incremento) {\n",
    "    this->inicio = inicio;\n",
    "    this->fin = fin;\n",
    "    this->incremento = incremento;\n",
    "}\n",
    "\n",
    "void Ejercicio2::imprimirRango() {\n",
    "    std::cout << \"Imprimiendo valores en un rango con incremento de \" << incremento << \":\" << std::endl;\n",
    "    \n",
    "    for (int i = inicio; i <= fin; i += incremento) {\n",
    "        std::cout << i << std::endl;\n",
    "    }\n",
    "\n",
    "    std::cout << \"Realizado\" << std::endl;\n",
    "}\n"
   ]
  },
  {
   "cell_type": "code",
   "execution_count": 12,
   "id": "44db8ba7-39d0-47be-897f-ea96a3a4f4dc",
   "metadata": {},
   "outputs": [
    {
     "name": "stdout",
     "output_type": "stream",
     "text": [
      "Writing main.cpp\n"
     ]
    }
   ],
   "source": [
    "%%writefile main.cpp\n",
    "#include \"Ejercicio2.h\"\n",
    "\n",
    "int main() {\n",
    "    Ejercicio2 ejercicio(0, 20, 2);\n",
    "    ejercicio.imprimirRango();\n",
    "    return 0;\n",
    "}\n"
   ]
  },
  {
   "cell_type": "code",
   "execution_count": 14,
   "id": "66d71aca-cb72-4eb0-b847-25dbb74e7d67",
   "metadata": {},
   "outputs": [],
   "source": [
    "!g++ Ejercicio2.cpp main.cpp -o ejercicio2\n"
   ]
  },
  {
   "cell_type": "code",
   "execution_count": 15,
   "id": "003107b0-c212-415c-a48a-3ef447673496",
   "metadata": {},
   "outputs": [
    {
     "name": "stdout",
     "output_type": "stream",
     "text": [
      "Writing Ejercicio3.h\n"
     ]
    }
   ],
   "source": [
    "%%writefile Ejercicio3.h\n",
    "#ifndef EJERCICIO3_H\n",
    "#define EJERCICIO3_H\n",
    "\n",
    "#include <iostream>\n",
    "\n",
    "class Ejercicio3 {\n",
    "public:\n",
    "    Ejercicio3(int repeticiones);\n",
    "    void ejecutar();\n",
    "private:\n",
    "    int repeticiones;\n",
    "};\n",
    "\n",
    "#endif\n"
   ]
  },
  {
   "cell_type": "code",
   "execution_count": 16,
   "id": "f22f0f3a-9dd7-4229-b0d4-eb3c9bf7d220",
   "metadata": {},
   "outputs": [
    {
     "name": "stdout",
     "output_type": "stream",
     "text": [
      "Writing Ejercicio3.cpp\n"
     ]
    }
   ],
   "source": [
    "%%writefile Ejercicio3.cpp\n",
    "#include \"Ejercicio3.h\"\n",
    "\n",
    "Ejercicio3::Ejercicio3(int repeticiones) {\n",
    "    this->repeticiones = repeticiones;\n",
    "}\n",
    "\n",
    "void Ejercicio3::ejecutar() {\n",
    "    for (int _ = 0; _ < repeticiones; _++) { // Variable anónima \"_\"\n",
    "        std::cout << \"Iteración en progreso...\" << std::endl;\n",
    "    }\n",
    "\n",
    "    std::cout << \"Realizado\" << std::endl;\n",
    "}\n"
   ]
  },
  {
   "cell_type": "code",
   "execution_count": 17,
   "id": "8717d470-fcc0-4cf9-97d3-2ad7dbe9124a",
   "metadata": {},
   "outputs": [
    {
     "name": "stdout",
     "output_type": "stream",
     "text": [
      "Overwriting main.cpp\n"
     ]
    }
   ],
   "source": [
    "%%writefile main.cpp\n",
    "#include \"Ejercicio3.h\"\n",
    "\n",
    "int main() {\n",
    "    Ejercicio3 ejercicio(10); // Ejecutar el bucle 10 veces\n",
    "    ejercicio.ejecutar();\n",
    "    return 0;\n",
    "}\n"
   ]
  },
  {
   "cell_type": "code",
   "execution_count": 18,
   "id": "4895a3f5-df5f-42d9-802a-41f25784c56d",
   "metadata": {},
   "outputs": [],
   "source": [
    "!g++ Ejercicio3.cpp main.cpp -o ejercicio3\n"
   ]
  },
  {
   "cell_type": "code",
   "execution_count": 19,
   "id": "92561ea3-e321-402c-bf9e-1dbc6dd9ff27",
   "metadata": {},
   "outputs": [
    {
     "name": "stdout",
     "output_type": "stream",
     "text": [
      "Writing Ejercicio4.h\n"
     ]
    }
   ],
   "source": [
    "%%writefile Ejercicio4.h\n",
    "#ifndef EJERCICIO4_H\n",
    "#define EJERCICIO4_H\n",
    "\n",
    "#include <iostream>\n",
    "\n",
    "class Ejercicio4 {\n",
    "public:\n",
    "    Ejercicio4(int numeroUsuario);\n",
    "    void ejecutar();\n",
    "private:\n",
    "    int numeroUsuario;\n",
    "};\n",
    "\n",
    "#endif\n"
   ]
  },
  {
   "cell_type": "code",
   "execution_count": 20,
   "id": "0fd2398f-eeb5-4c26-bf0c-28532f878f7b",
   "metadata": {},
   "outputs": [
    {
     "name": "stdout",
     "output_type": "stream",
     "text": [
      "Writing Ejercicio4.cpp\n"
     ]
    }
   ],
   "source": [
    "%%writefile Ejercicio4.cpp\n",
    "#include \"Ejercicio4.h\"\n",
    "\n",
    "Ejercicio4::Ejercicio4(int numeroUsuario) {\n",
    "    this->numeroUsuario = numeroUsuario;\n",
    "}\n",
    "\n",
    "void Ejercicio4::ejecutar() {\n",
    "    for (int i = 1; i <= 5; i++) {\n",
    "        std::cout << \"Iteración: \" << i << std::endl;\n",
    "        \n",
    "        if (i == numeroUsuario) {\n",
    "            std::cout << \"El número \" << numeroUsuario << \" coincide con la iteración \" << i << \".\" << std::endl;\n",
    "        }\n",
    "    }\n",
    "\n",
    "    std::cout << \"Hecho\" << std::endl;\n",
    "}\n"
   ]
  },
  {
   "cell_type": "code",
   "execution_count": 21,
   "id": "d5128669-94a2-45d8-9084-932e75d27d1c",
   "metadata": {},
   "outputs": [
    {
     "name": "stdout",
     "output_type": "stream",
     "text": [
      "Overwriting main.cpp\n"
     ]
    }
   ],
   "source": [
    "%%writefile main.cpp\n",
    "#include \"Ejercicio4.h\"\n",
    "\n",
    "int main() {\n",
    "    int numeroUsuario;\n",
    "    std::cout << \"Ingrese un número para comparar con las iteraciones: \";\n",
    "    std::cin >> numeroUsuario;\n",
    "\n",
    "    Ejercicio4 ejercicio(numeroUsuario);\n",
    "    ejercicio.ejecutar();\n",
    "\n",
    "    return 0;\n",
    "}\n"
   ]
  },
  {
   "cell_type": "code",
   "execution_count": 22,
   "id": "8b192b45-4888-4e87-af3c-887815792ca2",
   "metadata": {},
   "outputs": [],
   "source": [
    "!g++ Ejercicio4.cpp main.cpp -o ejercicio4\n"
   ]
  },
  {
   "cell_type": "code",
   "execution_count": 23,
   "id": "5757627b-0ea6-4136-8350-4bb0a3684c4f",
   "metadata": {},
   "outputs": [
    {
     "name": "stdout",
     "output_type": "stream",
     "text": [
      "Writing Ejercicio5.h\n"
     ]
    }
   ],
   "source": [
    "%%writefile Ejercicio5.h\n",
    "#ifndef EJERCICIO5_H\n",
    "#define EJERCICIO5_H\n",
    "\n",
    "#include <iostream>\n",
    "\n",
    "class Ejercicio5 {\n",
    "public:\n",
    "    Ejercicio5(int limite);\n",
    "    void imprimirNumeros();\n",
    "private:\n",
    "    int limite;\n",
    "};\n",
    "\n",
    "#endif\n"
   ]
  },
  {
   "cell_type": "code",
   "execution_count": 24,
   "id": "c4836692-4fa3-4cf2-a685-270076f6ce80",
   "metadata": {},
   "outputs": [
    {
     "name": "stdout",
     "output_type": "stream",
     "text": [
      "Writing Ejercicio5.cpp\n"
     ]
    }
   ],
   "source": [
    "%%writefile Ejercicio5.cpp\n",
    "#include \"Ejercicio5.h\"\n",
    "\n",
    "Ejercicio5::Ejercicio5(int limite) {\n",
    "    this->limite = limite;\n",
    "}\n",
    "\n",
    "void Ejercicio5::imprimirNumeros() {\n",
    "    std::cout << \"Imprimiendo los números hasta \" << limite << \":\" << std::endl;\n",
    "\n",
    "    for (int i = 1; i <= limite; i++) {\n",
    "        std::cout << \"Dado el número: \" << i;\n",
    "\n",
    "        if (i % 2 == 0) {\n",
    "            std::cout << \" es un número par y amamos los números pares.\";\n",
    "        }\n",
    "\n",
    "        std::cout << std::endl;\n",
    "    }\n",
    "}\n"
   ]
  },
  {
   "cell_type": "code",
   "execution_count": 25,
   "id": "43907b16-4e96-4301-a8ed-8502b89b435b",
   "metadata": {},
   "outputs": [
    {
     "name": "stdout",
     "output_type": "stream",
     "text": [
      "Overwriting main.cpp\n"
     ]
    }
   ],
   "source": [
    "%%writefile main.cpp\n",
    "#include \"Ejercicio5.h\"\n",
    "\n",
    "int main() {\n",
    "    int limite;\n",
    "    std::cout << \"Ingrese el número límite hasta donde quiere imprimir: \";\n",
    "    std::cin >> limite;\n",
    "\n",
    "    Ejercicio5 ejercicio(limite);\n",
    "    ejercicio.imprimirNumeros();\n",
    "\n",
    "    return 0;\n",
    "}\n"
   ]
  },
  {
   "cell_type": "code",
   "execution_count": 26,
   "id": "3305b9ce-2e1b-451d-a00e-55a0b0461b79",
   "metadata": {},
   "outputs": [],
   "source": [
    "!g++ Ejercicio5.cpp main.cpp -o ejercicio5\n"
   ]
  },
  {
   "cell_type": "code",
   "execution_count": 28,
   "id": "42c34ebc-4119-495b-813d-504fdfe1eb29",
   "metadata": {},
   "outputs": [
    {
     "name": "stdout",
     "output_type": "stream",
     "text": [
      "Writing Ejercicio7.h\n"
     ]
    }
   ],
   "source": [
    "%%writefile Ejercicio7.h\n",
    "#ifndef EJERCICIO7_H\n",
    "#define EJERCICIO7_H\n",
    "\n",
    "class Ejercicio7 {\n",
    "public:\n",
    "    Ejercicio7();\n",
    "    void ejecutarContador();\n",
    "private:\n",
    "    int contador;\n",
    "};\n",
    "\n",
    "#endif"
   ]
  },
  {
   "cell_type": "code",
   "execution_count": 29,
   "id": "71ef238a-0986-4dec-a1e4-4415ab159c61",
   "metadata": {},
   "outputs": [
    {
     "name": "stdout",
     "output_type": "stream",
     "text": [
      "Writing Ejercicio7.cpp\n"
     ]
    }
   ],
   "source": [
    "%%writefile Ejercicio7.cpp\n",
    "#include \"Ejercicio7.h\"\n",
    "#include <iostream>\n",
    "\n",
    "Ejercicio7::Ejercicio7() : contador(0) {}\n",
    "\n",
    "void Ejercicio7::ejecutarContador() {\n",
    "    while (contador < 10) {\n",
    "        std::cout << \"Contador: \" << contador << std::endl;\n",
    "        contador++;\n",
    "    }\n",
    "}"
   ]
  },
  {
   "cell_type": "code",
   "execution_count": 30,
   "id": "276a8df8-c437-4316-9e09-ce9aecb80f72",
   "metadata": {},
   "outputs": [
    {
     "name": "stdout",
     "output_type": "stream",
     "text": [
      "Overwriting main.cpp\n"
     ]
    }
   ],
   "source": [
    "%%writefile main.cpp\n",
    "#include \"Ejercicio7.h\"\n",
    "\n",
    "int main() {\n",
    "    Ejercicio7 ejercicio;\n",
    "    ejercicio.ejecutarContador();\n",
    "    return 0;\n",
    "}"
   ]
  },
  {
   "cell_type": "code",
   "execution_count": 31,
   "id": "32b951ec-293b-4833-87c0-ee8d6635883b",
   "metadata": {},
   "outputs": [],
   "source": [
    "!g++ Ejercicio7.cpp main.cpp -o ejercicio7"
   ]
  },
  {
   "cell_type": "code",
   "execution_count": 32,
   "id": "5da52c25-3f73-4167-be22-eb9e0d7775ea",
   "metadata": {},
   "outputs": [
    {
     "name": "stdout",
     "output_type": "stream",
     "text": [
      "Writing Ejercicio8.h\n"
     ]
    }
   ],
   "source": [
    "%%writefile Ejercicio8.h\n",
    "#ifndef EJERCICIO8_H\n",
    "#define EJERCICIO8_H\n",
    "\n",
    "#include <cstdlib>\n",
    "#include <ctime>\n",
    "#include <iostream>\n",
    "\n",
    "class Ejercicio8 {\n",
    "public:\n",
    "    Ejercicio8();\n",
    "    void tirarDados();\n",
    "    bool deseaContinuar();\n",
    "};\n",
    "\n",
    "#endif"
   ]
  },
  {
   "cell_type": "code",
   "execution_count": 33,
   "id": "e242d3a8-9cf8-438a-8188-9102677fe64a",
   "metadata": {},
   "outputs": [
    {
     "name": "stdout",
     "output_type": "stream",
     "text": [
      "Writing Ejercicio8.cpp\n"
     ]
    }
   ],
   "source": [
    "%%writefile Ejercicio8.cpp\n",
    "#include \"Ejercicio8.h\"\n",
    "\n",
    "Ejercicio8::Ejercicio8() {\n",
    "    // Inicializar la semilla del generador de números aleatorios\n",
    "    std::srand(std::time(0));\n",
    "}\n",
    "\n",
    "void Ejercicio8::tirarDados() {\n",
    "    int dado1 = std::rand() % 6 + 1;\n",
    "    int dado2 = std::rand() % 6 + 1;\n",
    "\n",
    "    std::cout << \"Tire los dados...\\n\";\n",
    "    std::cout << \"Los valores son: \" << dado1 << \" y \" << dado2 << \"\\n\";\n",
    "}\n",
    "\n",
    "bool Ejercicio8::deseaContinuar() {\n",
    "    char respuesta;\n",
    "    std::cout << \"¿Quieres tirar los dados nuevamente? (s/n): \";\n",
    "    std::cin >> respuesta;\n",
    "    return respuesta == 's' || respuesta == 'S';\n",
    "}"
   ]
  },
  {
   "cell_type": "code",
   "execution_count": 34,
   "id": "4a58e93d-41a5-4863-b838-89887f2117eb",
   "metadata": {},
   "outputs": [
    {
     "name": "stdout",
     "output_type": "stream",
     "text": [
      "Overwriting main.cpp\n"
     ]
    }
   ],
   "source": [
    "%%writefile main.cpp\n",
    "#include \"Ejercicio8.h\"\n",
    "\n",
    "int main() {\n",
    "    Ejercicio8 ejercicio;\n",
    "    do {\n",
    "        ejercicio.tirarDados();\n",
    "    } while (ejercicio.deseaContinuar());\n",
    "\n",
    "    return 0;\n",
    "}"
   ]
  },
  {
   "cell_type": "code",
   "execution_count": 35,
   "id": "2cb33bd5-f1ca-43ad-9723-e3c0c170342c",
   "metadata": {},
   "outputs": [],
   "source": [
    "!g++ Ejercicio8.cpp main.cpp -o ejercicio8"
   ]
  },
  {
   "cell_type": "code",
   "execution_count": 36,
   "id": "83321a9c-5eb6-4053-b403-02f7b100b45a",
   "metadata": {},
   "outputs": [
    {
     "name": "stdout",
     "output_type": "stream",
     "text": [
      "Writing Ejercicio9.h\n"
     ]
    }
   ],
   "source": [
    "%%writefile Ejercicio9.h\n",
    "#ifndef EJERCICIO9_H\n",
    "#define EJERCICIO9_H\n",
    "\n",
    "#include <iostream>\n",
    "#include <iomanip>\n",
    "#include <string>\n",
    "\n",
    "const int PENNIES_PER_NICKEL = 5;\n",
    "const double NICKEL = 0.05;\n",
    "\n",
    "class Ejercicio9 {\n",
    "public:\n",
    "    void agregarArticulo(double precio);\n",
    "    double calcularTotal();\n",
    "    double redondearAlNickel(double cantidad);\n",
    "private:\n",
    "    double total = 0.0;\n",
    "};\n",
    "\n",
    "#endif"
   ]
  },
  {
   "cell_type": "code",
   "execution_count": 37,
   "id": "bdd0c8f5-1f9c-4f29-aaec-8c8af90fc349",
   "metadata": {},
   "outputs": [
    {
     "name": "stdout",
     "output_type": "stream",
     "text": [
      "Writing Ejercicio9.cpp\n"
     ]
    }
   ],
   "source": [
    "%%writefile Ejercicio9.cpp\n",
    "#include \"Ejercicio9.h\"\n",
    "\n",
    "void Ejercicio9::agregarArticulo(double precio) {\n",
    "    total += precio;\n",
    "}\n",
    "\n",
    "double Ejercicio9::calcularTotal() {\n",
    "    return redondearAlNickel(total);\n",
    "}\n",
    "\n",
    "double Ejercicio9::redondearAlNickel(double cantidad) {\n",
    "    int centavos = static_cast<int>(cantidad * 100);\n",
    "    int resto = centavos % PENNIES_PER_NICKEL;\n",
    "    \n",
    "    if (resto < PENNIES_PER_NICKEL / 2) {\n",
    "        centavos -= resto;\n",
    "    } else {\n",
    "        centavos += (PENNIES_PER_NICKEL - resto);\n",
    "    }\n",
    "    \n",
    "    return centavos / 100.0;\n",
    "}"
   ]
  },
  {
   "cell_type": "code",
   "execution_count": 38,
   "id": "e6846577-5e8c-4ab4-935e-008e316b9265",
   "metadata": {},
   "outputs": [
    {
     "name": "stdout",
     "output_type": "stream",
     "text": [
      "Overwriting main.cpp\n"
     ]
    }
   ],
   "source": [
    "%%writefile main.cpp\n",
    "#include \"Ejercicio9.h\"\n",
    "\n",
    "int main() {\n",
    "    Ejercicio9 ejercicio;\n",
    "    std::string respuesta;\n",
    "    double precio;\n",
    "    \n",
    "    do {\n",
    "        std::cout << \"Ingrese el precio del artículo: \";\n",
    "        std::cin >> precio;\n",
    "        ejercicio.agregarArticulo(precio);\n",
    "        \n",
    "        std::cout << \"¿Desea agregar otro artículo? (s/n): \";\n",
    "        std::cin >> respuesta;\n",
    "    } while (respuesta == \"s\" || respuesta == \"S\");\n",
    "\n",
    "    double total = ejercicio.calcularTotal();\n",
    "    std::cout << std::fixed << std::setprecision(2);\n",
    "    std::cout << \"El total adeudado es: $\" << total << std::endl;\n",
    "\n",
    "    return 0;\n",
    "}"
   ]
  },
  {
   "cell_type": "code",
   "execution_count": 39,
   "id": "26663284-5ea6-4247-b4ff-0c7f1b4b4b5b",
   "metadata": {},
   "outputs": [],
   "source": [
    "!g++ Ejercicio9.cpp main.cpp -o ejercicio9"
   ]
  },
  {
   "cell_type": "code",
   "execution_count": null,
   "id": "490e2140-bfc2-4ae5-aae6-6d55e05db379",
   "metadata": {},
   "outputs": [],
   "source": []
  }
 ],
 "metadata": {
  "kernelspec": {
   "display_name": "Python 3 (ipykernel)",
   "language": "python",
   "name": "python3"
  },
  "language_info": {
   "codemirror_mode": {
    "name": "ipython",
    "version": 3
   },
   "file_extension": ".py",
   "mimetype": "text/x-python",
   "name": "python",
   "nbconvert_exporter": "python",
   "pygments_lexer": "ipython3",
   "version": "3.12.3"
  }
 },
 "nbformat": 4,
 "nbformat_minor": 5
}
