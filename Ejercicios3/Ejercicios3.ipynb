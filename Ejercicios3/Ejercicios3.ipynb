{
 "cells": [
  {
   "cell_type": "code",
   "execution_count": 5,
   "id": "9daa8c50-2dc0-472a-a9d7-08f47e987f54",
   "metadata": {},
   "outputs": [
    {
     "name": "stdout",
     "output_type": "stream",
     "text": [
      "Writing Ejercicio1.h\n"
     ]
    }
   ],
   "source": [
    "%%writefile Ejercicio1.h\n",
    "#ifndef EJERCICIOI_H\n",
    "#define EJERCICIOI_H\n",
    "\n",
    "#include <iostream>\n",
    "using namespace std;\n",
    "\n",
    "class EjercicioI {\n",
    "public:\n",
    "    EjercicioI();           // Constructor (puede quedar vacío)\n",
    "    void ejecutar();        // Método que recorre i y muestra \"Realizado\"\n",
    "};\n",
    "\n",
    "#endif\n"
   ]
  },
  {
   "cell_type": "code",
   "execution_count": 6,
   "id": "03276068-adb3-433b-a3e3-94352d990a68",
   "metadata": {},
   "outputs": [
    {
     "name": "stdout",
     "output_type": "stream",
     "text": [
      "Writing Ejercicio1.cpp\n"
     ]
    }
   ],
   "source": [
    "%%writefile Ejercicio1.cpp\n",
    "#include \"EjercicioI.h\"\n",
    "\n",
    "EjercicioI::EjercicioI() {\n",
    "    // Constructor: no requiere inicialización especial en este caso.\n",
    "}\n",
    "\n",
    "void EjercicioI::ejecutar() {\n",
    "    // Recorrer la variable i hasta 10 veces y mostrar su valor\n",
    "    for (int i = 0; i < 10; i++) {\n",
    "        cout << i << endl;\n",
    "    }\n",
    "    // Mostrar el mensaje \"Realizado\" una sola vez al finalizar\n",
    "    cout << \"Realizado\" << endl;\n",
    "}\n"
   ]
  },
  {
   "cell_type": "code",
   "execution_count": 7,
   "id": "86e90841-4676-41b6-9feb-2b923e27b373",
   "metadata": {},
   "outputs": [
    {
     "name": "stdout",
     "output_type": "stream",
     "text": [
      "Writing main1.cpp\n"
     ]
    }
   ],
   "source": [
    "%%writefile main1.cpp\n",
    "#include \"EjercicioI.h\"\n",
    "\n",
    "int main() {\n",
    "    EjercicioI obj;\n",
    "    obj.ejecutar();\n",
    "    return 0;\n",
    "}\n"
   ]
  },
  {
   "cell_type": "code",
   "execution_count": 9,
   "id": "db864bbb-1037-4b22-bad2-cb82754d71a2",
   "metadata": {},
   "outputs": [],
   "source": [
    "!g++ main1.cpp Ejercicio1.cpp -o ejercicio1\n"
   ]
  },
  {
   "cell_type": "code",
   "execution_count": 10,
   "id": "757b3355-4060-4fe9-bdd2-70a4dbeaf928",
   "metadata": {},
   "outputs": [
    {
     "name": "stdout",
     "output_type": "stream",
     "text": [
      "Writing Ejercicio2.h\n"
     ]
    }
   ],
   "source": [
    "%%writefile Ejercicio2.h\n",
    "#ifndef EJERCICIO2_H\n",
    "#define EJERCICIO2_H\n",
    "\n",
    "#include <iostream>\n",
    "\n",
    "class Ejercicio2 {\n",
    "public:\n",
    "    Ejercicio2(int inicio, int fin, int incremento);\n",
    "    void imprimirRango();\n",
    "private:\n",
    "    int inicio;\n",
    "    int fin;\n",
    "    int incremento;\n",
    "};\n",
    "\n",
    "#endif\n"
   ]
  },
  {
   "cell_type": "code",
   "execution_count": 11,
   "id": "5d1930ab-cb8d-4637-a49e-3b8d7c1dde46",
   "metadata": {},
   "outputs": [
    {
     "name": "stdout",
     "output_type": "stream",
     "text": [
      "Writing Ejercicio2.cpp\n"
     ]
    }
   ],
   "source": [
    "%%writefile Ejercicio2.cpp\n",
    "#include \"Ejercicio2.h\"\n",
    "\n",
    "Ejercicio2::Ejercicio2(int inicio, int fin, int incremento) {\n",
    "    this->inicio = inicio;\n",
    "    this->fin = fin;\n",
    "    this->incremento = incremento;\n",
    "}\n",
    "\n",
    "void Ejercicio2::imprimirRango() {\n",
    "    std::cout << \"Imprimiendo valores en un rango con incremento de \" << incremento << \":\" << std::endl;\n",
    "    \n",
    "    for (int i = inicio; i <= fin; i += incremento) {\n",
    "        std::cout << i << std::endl;\n",
    "    }\n",
    "\n",
    "    std::cout << \"Realizado\" << std::endl;\n",
    "}\n"
   ]
  },
  {
   "cell_type": "code",
   "execution_count": 12,
   "id": "44db8ba7-39d0-47be-897f-ea96a3a4f4dc",
   "metadata": {},
   "outputs": [
    {
     "name": "stdout",
     "output_type": "stream",
     "text": [
      "Writing main.cpp\n"
     ]
    }
   ],
   "source": [
    "%%writefile main.cpp\n",
    "#include \"Ejercicio2.h\"\n",
    "\n",
    "int main() {\n",
    "    Ejercicio2 ejercicio(0, 20, 2);\n",
    "    ejercicio.imprimirRango();\n",
    "    return 0;\n",
    "}\n"
   ]
  },
  {
   "cell_type": "code",
   "execution_count": 14,
   "id": "66d71aca-cb72-4eb0-b847-25dbb74e7d67",
   "metadata": {},
   "outputs": [],
   "source": [
    "!g++ Ejercicio2.cpp main.cpp -o ejercicio2\n"
   ]
  },
  {
   "cell_type": "code",
   "execution_count": null,
   "id": "003107b0-c212-415c-a48a-3ef447673496",
   "metadata": {},
   "outputs": [],
   "source": []
  }
 ],
 "metadata": {
  "kernelspec": {
   "display_name": "Python 3 (ipykernel)",
   "language": "python",
   "name": "python3"
  },
  "language_info": {
   "codemirror_mode": {
    "name": "ipython",
    "version": 3
   },
   "file_extension": ".py",
   "mimetype": "text/x-python",
   "name": "python",
   "nbconvert_exporter": "python",
   "pygments_lexer": "ipython3",
   "version": "3.12.3"
  }
 },
 "nbformat": 4,
 "nbformat_minor": 5
}
