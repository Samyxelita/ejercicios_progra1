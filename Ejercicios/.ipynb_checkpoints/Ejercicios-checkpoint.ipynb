{
 "cells": [
  {
   "cell_type": "code",
   "execution_count": null,
   "id": "bf2c9601-99f4-46e6-aa4e-2d3c0ed2bc08",
   "metadata": {},
   "outputs": [],
   "source": [
    "%%writefile ejercicio1.cpp\n",
    "#include <iostream>\n",
    "#include <string>\n",
    "\n",
    "int main() {\n",
    "    std::string nombre;\n",
    "    std::cout << \"Introduce tu nombre: \";\n",
    "    std::getline(std::cin, nombre);\n",
    "    std::cout << \"Hola, \" << nombre << \"!\" << std::endl;\n",
    "    return 0;\n",
    "}"
   ]
  },
  {
   "cell_type": "code",
   "execution_count": null,
   "id": "9610faf0-d7c6-4c84-b400-ba346f9f5c9f",
   "metadata": {},
   "outputs": [],
   "source": [
    "!g++ -o ejercicio1 ejercicio1.cpp\n",
    "!./ejercicio1"
   ]
  },
  {
   "cell_type": "code",
   "execution_count": null,
   "id": "0314b6b3-e37c-404e-b94d-943bf65a4fce",
   "metadata": {},
   "outputs": [],
   "source": [
    "%%writefile ejercicio2.cpp\n",
    "#include <iostream>\n",
    "#include <vector>\n",
    "#include <algorithm>\n",
    "#include <sstream>\n",
    "\n",
    "int main() {\n",
    "    std::vector<std::string> palabras = {\"culpa,\", \"mal,\", \"un,\", \"siempre,\", \"la,\", \"trabajador,\", \"a,\", \"herramienta\"};\n",
    "    std::sort(palabras.begin(), palabras.end());\n",
    "\n",
    "    std::ostringstream fraseOrdenada;\n",
    "    for (const auto& palabra : palabras) {\n",
    "        if (fraseOrdenada.tellp() > 0) {\n",
    "            fraseOrdenada << \" \";\n",
    "        }\n",
    "        fraseOrdenada << palabra;\n",
    "    }\n",
    "\n",
    "    std::cout << fraseOrdenada.str() << std::endl;\n",
    "    return 0;\n",
    "}"
   ]
  },
  {
   "cell_type": "code",
   "execution_count": null,
   "id": "975beedf-9867-4874-858f-52117aaf33b0",
   "metadata": {},
   "outputs": [],
   "source": [
    "!g++ -o ejercicio2 ejercicio2.cpp\n",
    "!./ejercicio2"
   ]
  }
 ],
 "metadata": {
  "kernelspec": {
   "display_name": "Python 3 (ipykernel)",
   "language": "python",
   "name": "python3"
  },
  "language_info": {
   "codemirror_mode": {
    "name": "ipython",
    "version": 3
   },
   "file_extension": ".py",
   "mimetype": "text/x-python",
   "name": "python",
   "nbconvert_exporter": "python",
   "pygments_lexer": "ipython3",
   "version": "3.12.3"
  }
 },
 "nbformat": 4,
 "nbformat_minor": 5
}
