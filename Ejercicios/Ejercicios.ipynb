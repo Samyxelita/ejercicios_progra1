{
 "cells": [
  {
   "cell_type": "code",
   "execution_count": 1,
   "id": "bf2c9601-99f4-46e6-aa4e-2d3c0ed2bc08",
   "metadata": {},
   "outputs": [
    {
     "name": "stdout",
     "output_type": "stream",
     "text": [
      "Overwriting ejercicio1.cpp\n"
     ]
    }
   ],
   "source": [
    "%%writefile ejercicio1.cpp\n",
    "#include <iostream>\n",
    "#include <string>\n",
    "\n",
    "int main() {\n",
    "    std::string nombre;\n",
    "    std::cout << \"Introduce tu nombre: \";\n",
    "    std::getline(std::cin, nombre);\n",
    "    std::cout << \"Hola, \" << nombre << \"!\" << std::endl;\n",
    "    return 0;\n",
    "}"
   ]
  },
  {
   "cell_type": "code",
   "execution_count": 2,
   "id": "9610faf0-d7c6-4c84-b400-ba346f9f5c9f",
   "metadata": {},
   "outputs": [],
   "source": [
    "!g++ ejercicio1.cpp -o ejercicio1 \n"
   ]
  },
  {
   "cell_type": "code",
   "execution_count": 3,
   "id": "0314b6b3-e37c-404e-b94d-943bf65a4fce",
   "metadata": {},
   "outputs": [
    {
     "name": "stdout",
     "output_type": "stream",
     "text": [
      "Overwriting ejercicio2.cpp\n"
     ]
    }
   ],
   "source": [
    "%%writefile ejercicio2.cpp\n",
    "#include <iostream>\n",
    "using namespace std;\n",
    "\n",
    "void ordenarFrase(char* palabras[], int n) {\n",
    "    for (int i = 0; i < n - 1; i++) {\n",
    "        for (int j = i + 1; j < n; j++) {\n",
    "            int k = 0;\n",
    "            while (palabras[i][k] == palabras[j][k]) {\n",
    "                k++;\n",
    "            }\n",
    "            if (palabras[i][k] > palabras[j][k]) {\n",
    "                char* temp = palabras[i];\n",
    "                palabras[i] = palabras[j];\n",
    "                palabras[j] = temp;\n",
    "            }\n",
    "        }\n",
    "    }\n",
    "}\n",
    "\n",
    "int main() {\n",
    "    const int n = 8;\n",
    "    char palabra1[] = \"culpa,\";\n",
    "    char palabra2[] = \"mal,\";\n",
    "    char palabra3[] = \"un,\";\n",
    "    char palabra4[] = \"siempre,\";\n",
    "    char palabra5[] = \"la,\";\n",
    "    char palabra6[] = \"trabajador,\";\n",
    "    char palabra7[] = \"a,\";\n",
    "    char palabra8[] = \"herramienta\";\n",
    "    char* palabras[n] = {palabra1, palabra2, palabra3, palabra4, palabra5, palabra6, palabra7, palabra8};\n",
    "\n",
    "    ordenarFrase(palabras, n);\n",
    "\n",
    "    for (int i = 0; i < n; i++) {\n",
    "        if (i > 0) {\n",
    "            cout << \" \";\n",
    "        }\n",
    "        cout << palabras[i];\n",
    "    }\n",
    "    cout << endl;\n",
    "\n",
    "    return 0;\n",
    "}"
   ]
  },
  {
   "cell_type": "code",
   "execution_count": 4,
   "id": "975beedf-9867-4874-858f-52117aaf33b0",
   "metadata": {},
   "outputs": [],
   "source": [
    "!g++ ejercicio2.cpp -o ejercicio2 "
   ]
  },
  {
   "cell_type": "code",
   "execution_count": 5,
   "id": "c3cc62b0-8458-40f6-9f4c-d1dc2b73d4ef",
   "metadata": {},
   "outputs": [
    {
     "name": "stdout",
     "output_type": "stream",
     "text": [
      "Overwriting ejercicio3.cpp\n"
     ]
    }
   ],
   "source": [
    "%%writefile ejercicio3.cpp\n",
    "#include <iostream>\n",
    "using namespace std;\n",
    "\n",
    "void convertirMayusculas(char* frase) {\n",
    "    bool new_word = true;\n",
    "    for (int i = 0; frase[i] != '\\0'; i++) {\n",
    "        if (new_word && frase[i] >= 'a' && frase[i] <= 'z') {\n",
    "            frase[i] -= 32; // Convertir a mayúscula\n",
    "            new_word = false;\n",
    "        }\n",
    "        if (frase[i] == ' ') {\n",
    "            new_word = true;\n",
    "        }\n",
    "    }\n",
    "}\n",
    "\n",
    "void reemplazarPalabra(char* frase, const char* palabraAntigua, const char* palabraNueva) {\n",
    "    char resultado[100];\n",
    "    int i, j, k;\n",
    "    i = j = k = 0;\n",
    "\n",
    "    while (frase[i] != '\\0') {\n",
    "        if (frase[i] == palabraAntigua[j]) {\n",
    "            j++;\n",
    "            if (palabraAntigua[j] == '\\0') {\n",
    "                for (int l = 0; palabraNueva[l] != '\\0'; l++, k++) {\n",
    "                    resultado[k] = palabraNueva[l];\n",
    "                }\n",
    "                j = 0;\n",
    "            }\n",
    "        } else {\n",
    "            if (j > 0) {\n",
    "                for (int l = 0; l < j; l++, k++) {\n",
    "                    resultado[k] = palabraAntigua[l];\n",
    "                }\n",
    "                j = 0;\n",
    "            }\n",
    "            resultado[k++] = frase[i];\n",
    "        }\n",
    "        i++;\n",
    "    }\n",
    "    resultado[k] = '\\0';\n",
    "\n",
    "    i = 0;\n",
    "    while (resultado[i] != '\\0') {\n",
    "        frase[i] = resultado[i];\n",
    "        i++;\n",
    "    }\n",
    "    frase[i] = '\\0';\n",
    "}\n",
    "\n",
    "int main() {\n",
    "    // Frase obtenida del ejercicio anterior\n",
    "    char frase[] = \"a, culpa, herramienta, la, mal, siempre, trabajador, un,\";\n",
    "\n",
    "    // Convertir la primera letra de cada palabra a mayúsculas\n",
    "    convertirMayusculas(frase);\n",
    "    cout << frase << endl;\n",
    "\n",
    "    // Añadir coma después de \"trabajador\"\n",
    "    int len = 0;\n",
    "    while (frase[len] != '\\0') len++;\n",
    "    for (int i = len; i > 35; i--) {\n",
    "        frase[i] = frase[i - 1];\n",
    "    }\n",
    "    frase[36] = ',';\n",
    "    frase[len + 1] = '\\0';\n",
    "    cout << frase << endl;\n",
    "\n",
    "    // Sustituir \"trabajador\" por \"estudiante\" y \"herramienta\" por \"profesor\"\n",
    "    reemplazarPalabra(frase, \"Trabajador,\", \"Estudiante,\");\n",
    "    reemplazarPalabra(frase, \"Herramienta,\", \"Profesor,\");\n",
    "    cout << frase << endl;\n",
    "\n",
    "    return 0;\n",
    "}"
   ]
  },
  {
   "cell_type": "code",
   "execution_count": 6,
   "id": "9b6490c3-8128-4782-86ad-4636ac637be2",
   "metadata": {},
   "outputs": [],
   "source": [
    "!g++ ejercicio3.cpp -o ejercicio3"
   ]
  },
  {
   "cell_type": "code",
   "execution_count": 7,
   "id": "1659abec-25f4-4ff6-adea-ba494686c844",
   "metadata": {},
   "outputs": [
    {
     "name": "stdout",
     "output_type": "stream",
     "text": [
      "Writing ejercicio4.cpp\n"
     ]
    }
   ],
   "source": [
    "%%writefile ejercicio4.cpp\n",
    "#include <iostream>\n",
    "using namespace std;\n",
    "\n",
    "int main() {\n",
    "    // Texto de Shakespeare\n",
    "    const char* texto = \"Más de una vez he visto, la luz de la mañana, acariciar las cumbres con ojo soberano, besar su labio de oro el verdor de los campos, dorando los arroyos con celestial alquimia.\";\n",
    "\n",
    "    // Contador de la letra \"a\"\n",
    "    int contador_a = 0;\n",
    "\n",
    "    // Contar cuántas veces aparece la letra \"a\"\n",
    "    for (int i = 0; texto[i] != '\\0'; i++) {\n",
    "        if (texto[i] == 'a' || texto[i] == 'A') {\n",
    "            contador_a++;\n",
    "        }\n",
    "    }\n",
    "\n",
    "    // Imprimir el resultado\n",
    "    cout << \"La letra 'a' aparece \" << contador_a << \" veces en la estrofa.\" << endl;\n",
    "\n",
    "    return 0;\n",
    "}"
   ]
  },
  {
   "cell_type": "code",
   "execution_count": 8,
   "id": "9420d635-bd5d-489d-9c59-02846ec189db",
   "metadata": {},
   "outputs": [],
   "source": [
    "!g++ ejercicio4.cpp -o ejercicio4\n"
   ]
  },
  {
   "cell_type": "code",
   "execution_count": 9,
   "id": "b062181d-d9c8-42c5-b7cb-9bab8cf59205",
   "metadata": {},
   "outputs": [
    {
     "name": "stdout",
     "output_type": "stream",
     "text": [
      "Writing ejercicio5.cpp\n"
     ]
    }
   ],
   "source": [
    "%%writefile ejercicio5.cpp\n",
    "#include <iostream>\n",
    "using namespace std;\n",
    "\n",
    "int main() {\n",
    "    float ancho, largo, area;\n",
    "    string unidad;\n",
    "\n",
    "    cout << \"Ingrese la unidad de medida (pies o metros): \";\n",
    "    cin >> unidad;\n",
    "\n",
    "    cout << \"Ingrese el ancho de la habitación en \" << unidad << \": \";\n",
    "    cin >> ancho;\n",
    "    cout << \"Ingrese el largo de la habitación en \" << unidad << \": \";\n",
    "    cin >> largo;\n",
    "\n",
    "    area = ancho * largo;\n",
    "\n",
    "    cout << \"El área de la habitación es \" << area << \" \" << unidad << \" cuadrados.\" << endl;\n",
    "\n",
    "    return 0;\n",
    "}"
   ]
  },
  {
   "cell_type": "code",
   "execution_count": 10,
   "id": "8529e366-a6b6-4c69-a3a5-ce8cb5f0b802",
   "metadata": {},
   "outputs": [],
   "source": [
    "!g++ ejercicio5.cpp -o ejercicio5"
   ]
  },
  {
   "cell_type": "code",
   "execution_count": null,
   "id": "fe25d40d-ca83-4861-a761-23096119a68e",
   "metadata": {},
   "outputs": [],
   "source": []
  }
 ],
 "metadata": {
  "kernelspec": {
   "display_name": "Python 3 (ipykernel)",
   "language": "python",
   "name": "python3"
  },
  "language_info": {
   "codemirror_mode": {
    "name": "ipython",
    "version": 3
   },
   "file_extension": ".py",
   "mimetype": "text/x-python",
   "name": "python",
   "nbconvert_exporter": "python",
   "pygments_lexer": "ipython3",
   "version": "3.12.3"
  }
 },
 "nbformat": 4,
 "nbformat_minor": 5
}
