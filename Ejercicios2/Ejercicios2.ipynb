{
 "cells": [
  {
   "cell_type": "code",
   "execution_count": 1,
   "id": "40804215-7eb4-463c-bc92-557988f152f5",
   "metadata": {},
   "outputs": [
    {
     "name": "stdout",
     "output_type": "stream",
     "text": [
      "Overwriting Numero1.h\n"
     ]
    }
   ],
   "source": [
    "%%writefile Numero1.h\n",
    "#ifndef NUMERO1_H\n",
    "#define NUMERO1_H\n",
    "\n",
    "#include <iostream>\n",
    "using namespace std;\n",
    "\n",
    "class Numero1 {\n",
    "private:\n",
    "    int valor;\n",
    "\n",
    "public:\n",
    "    Numero1();  // Constructor\n",
    "    bool esPar();  // Método para verificar si es par\n",
    "    void mostrarResultado();  // Método para mostrar el resultado\n",
    "};\n",
    "\n",
    "#endif\n"
   ]
  },
  {
   "cell_type": "code",
   "execution_count": 2,
   "id": "f795dbba-0af4-44dc-8dc5-974a60e8aeab",
   "metadata": {},
   "outputs": [
    {
     "name": "stdout",
     "output_type": "stream",
     "text": [
      "Overwriting Numero1.cpp\n"
     ]
    }
   ],
   "source": [
    "%%writefile Numero1.cpp\n",
    "#include \"Numero1.h\"\n",
    "\n",
    "// Constructor: pide un número al usuario\n",
    "Numero1::Numero1() {\n",
    "    cout << \"Ingrese un número entero: \";\n",
    "    cin >> valor;\n",
    "}\n",
    "\n",
    "// Método que verifica si el número es par\n",
    "bool Numero1::esPar() {\n",
    "    return valor % 2 == 0;\n",
    "}\n",
    "\n",
    "// Método que muestra si el número es par o impar\n",
    "void Numero1::mostrarResultado() {\n",
    "    if (esPar()) {\n",
    "        cout << \"El número \" << valor << \" es par.\" << endl;\n",
    "    } else {\n",
    "        cout << \"El número \" << valor << \" es impar.\" << endl;\n",
    "    }\n",
    "}\n"
   ]
  },
  {
   "cell_type": "code",
   "execution_count": 3,
   "id": "86a8dc1a-fd4b-4f96-a27c-ae63dd3ddbac",
   "metadata": {},
   "outputs": [
    {
     "name": "stdout",
     "output_type": "stream",
     "text": [
      "Overwriting main1.cpp\n"
     ]
    }
   ],
   "source": [
    "%%writefile main1.cpp\n",
    "#include \"Numero1.h\"\n",
    "\n",
    "int main() {\n",
    "    Numero1 miNumero;\n",
    "    miNumero.mostrarResultado();\n",
    "    return 0;\n",
    "}\n"
   ]
  },
  {
   "cell_type": "code",
   "execution_count": 4,
   "id": "4a4f423a-5a94-43c6-8c52-514d46e91c3a",
   "metadata": {},
   "outputs": [],
   "source": [
    "!g++ main1.cpp Numero1.cpp -o ejercicio1\n"
   ]
  },
  {
   "cell_type": "code",
   "execution_count": 5,
   "id": "34f59624-1476-4b4d-8768-af5f002f4214",
   "metadata": {},
   "outputs": [
    {
     "name": "stdout",
     "output_type": "stream",
     "text": [
      "Overwriting Letra2.h\n"
     ]
    }
   ],
   "source": [
    "%%writefile Letra2.h\n",
    "#ifndef LETRA2_H\n",
    "#define LETRA2_H\n",
    "\n",
    "#include <iostream>Luego divida la frecuencia por 2 4−x, donde x es el número de octava\n",
    "ingresado por el usuario. Esto reducirá a la mitad o duplicará la frecuencia\n",
    "el número correcto de veces.\n",
    "using namespace std;\n",
    "\n",
    "class Letra2 {\n",
    "private:\n",
    "    char letra;  // Atributo privado para almacenar la letra ingresada\n",
    "\n",
    "public:\n",
    "    Letra2();  // Constructor\n",
    "    void determinarTipo();  // Método para verificar si es vocal, consonante o \"y\"\n",
    "};\n",
    "\n",
    "#endif\n"
   ]
  },
  {
   "cell_type": "code",
   "execution_count": 6,
   "id": "c069fb00-0c2b-4e6b-9016-69be396b14f3",
   "metadata": {},
   "outputs": [
    {
     "name": "stdout",
     "output_type": "stream",
     "text": [
      "Overwriting Letra2.cpp\n"
     ]
    }
   ],
   "source": [
    "%%writefile Letra2.cpp\n",
    "#include \"Letra2.h\"\n",
    "\n",
    "// Constructor: pide al usuario una letra\n",
    "Letra2::Letra2() {\n",
    "    cout << \"Ingrese una letra: \";\n",
    "    cin >> letra;\n",
    "    letra = tolower(letra);  // Convertir a minúscula para comparar sin importar mayúsculas\n",
    "}\n",
    "\n",
    "// Método que determina si la letra es vocal, \"y\" o consonante\n",
    "void Letra2::determinarTipo() {\n",
    "    if (letra == 'a' || letra == 'e' || letra == 'i' || letra == 'o' || letra == 'u') {\n",
    "        cout << \"La letra ingresada '\" << letra << \"' es una vocal.\" << endl;\n",
    "    } else if (letra == 'y') {\n",
    "        cout << \"La letra 'y' a veces es vocal y otras veces es consonante.\" << endl;\n",
    "    } else {\n",
    "        cout << \"La letra ingresada '\" << letra << \"' es una consonante.\" << endl;\n",
    "    }\n",
    "}\n"
   ]
  },
  {
   "cell_type": "code",
   "execution_count": 7,
   "id": "6bcc9e5c-609e-4408-8965-ad5e3df5e0eb",
   "metadata": {},
   "outputs": [
    {
     "name": "stdout",
     "output_type": "stream",
     "text": [
      "Overwriting main2.cpp\n"
     ]
    }
   ],
   "source": [
    "%%writefile main2.cpp\n",
    "#include \"Letra2.h\"\n",
    "\n",
    "int main() {\n",
    "    Letra2 miLetra;\n",
    "    miLetra.determinarTipo();\n",
    "    return 0;\n",
    "}\n"
   ]
  },
  {
   "cell_type": "code",
   "execution_count": 8,
   "id": "20cfaf17-d1ae-400a-a3c8-9004e7e62c86",
   "metadata": {},
   "outputs": [],
   "source": [
    "!g++ main2.cpp Letra2.cpp -o ejercicio2\n"
   ]
  },
  {
   "cell_type": "code",
   "execution_count": 9,
   "id": "68cffef2-0242-4686-98dd-1c483183e3b9",
   "metadata": {},
   "outputs": [
    {
     "name": "stdout",
     "output_type": "stream",
     "text": [
      "Overwriting Figura3.h\n"
     ]
    }
   ],
   "source": [
    "%%writefile Figura3.h\n",
    "#ifndef FIGURA3_H\n",
    "#define FIGURA3_H\n",
    "\n",
    "#include <iostream>\n",
    "using namespace std;\n",
    "\n",
    "class Figura3 {\n",
    "private:\n",
    "    int lados;  // Atributo privado para almacenar la cantidad de lados\n",
    "\n",
    "public:\n",
    "    Figura3();  // Constructor\n",
    "    void determinarFigura();  // Método para determinar el nombre de la figura\n",
    "};\n",
    "\n",
    "#endif\n"
   ]
  },
  {
   "cell_type": "code",
   "execution_count": 10,
   "id": "b0f04965-7505-4b67-85a6-38de46da40ac",
   "metadata": {},
   "outputs": [
    {
     "name": "stdout",
     "output_type": "stream",
     "text": [
      "Overwriting Figura3.cpp\n"
     ]
    }
   ],
   "source": [
    "%%writefile Figura3.cpp\n",
    "#include \"Figura3.h\"\n",
    "\n",
    "// Constructor: pide al usuario el número de lados\n",
    "Figura3::Figura3() {\n",
    "    cout << \"Ingrese el número de lados de la figura (3-10): \";\n",
    "    cin >> lados;\n",
    "}\n",
    "\n",
    "// Método que determina el nombre de la figura según su número de lados\n",
    "void Figura3::determinarFigura() {\n",
    "    switch (lados) {\n",
    "        case 3:\n",
    "            cout << \"La figura con 3 lados es un triángulo.\" << endl;\n",
    "            break;\n",
    "        case 4:\n",
    "            cout << \"La figura con 4 lados es un cuadrilátero.\" << endl;\n",
    "            break;\n",
    "        case 5:\n",
    "            cout << \"La figura con 5 lados es un pentágono.\" << endl;\n",
    "            break;\n",
    "        case 6:\n",
    "            cout << \"La figura con 6 lados es un hexágono.\" << endl;\n",
    "            break;\n",
    "        case 7:\n",
    "            cout << \"La figura con 7 lados es un heptágono.\" << endl;\n",
    "            break;\n",
    "        case 8:\n",
    "            cout << \"La figura con 8 lados es un octágono.\" << endl;\n",
    "            break;\n",
    "        case 9:\n",
    "            cout << \"La figura con 9 lados es un eneágono.\" << endl;\n",
    "            break;\n",
    "        case 10:\n",
    "            cout << \"La figura con 10 lados es un decágono.\" << endl;\n",
    "            break;\n",
    "        default:\n",
    "            cout << \"Error: Solo se permiten figuras con 3 a 10 lados.\" << endl;\n",
    "            break;\n",
    "    }\n",
    "}\n"
   ]
  },
  {
   "cell_type": "code",
   "execution_count": 11,
   "id": "32ec6626-1d6f-4f7c-94c8-25db8fc0b3af",
   "metadata": {},
   "outputs": [
    {
     "name": "stdout",
     "output_type": "stream",
     "text": [
      "Overwriting main3.cpp\n"
     ]
    }
   ],
   "source": [
    "%%writefile main3.cpp\n",
    "#include \"Figura3.h\"\n",
    "\n",
    "int main() {\n",
    "    Figura3 miFigura;\n",
    "    miFigura.determinarFigura();\n",
    "    return 0;\n",
    "}\n"
   ]
  },
  {
   "cell_type": "code",
   "execution_count": 12,
   "id": "0164247c-7e5d-44e4-8f13-05f493da240a",
   "metadata": {},
   "outputs": [],
   "source": [
    "!g++ main3.cpp Figura3.cpp -o ejercicio3\n"
   ]
  },
  {
   "cell_type": "code",
   "execution_count": 13,
   "id": "525fb35b-54c1-467c-a9e2-cebd702b0bc1",
   "metadata": {},
   "outputs": [
    {
     "name": "stdout",
     "output_type": "stream",
     "text": [
      "Overwriting Mes4.h\n"
     ]
    }
   ],
   "source": [
    "%%writefile Mes4.h\n",
    "#ifndef MES4_H\n",
    "#define MES4_H\n",
    "\n",
    "#include <iostream>\n",
    "#include <string>\n",
    "using namespace std;\n",
    "\n",
    "class Mes4 {\n",
    "private:\n",
    "    string nombreMes;  // Atributo privado para almacenar el mes\n",
    "\n",
    "public:\n",
    "    Mes4();  // Constructor\n",
    "    void mostrarDias();  // Método para determinar los días del mes\n",
    "};\n",
    "\n",
    "#endif\n"
   ]
  },
  {
   "cell_type": "code",
   "execution_count": 14,
   "id": "f9e44f0c-df0b-4a75-98c1-29f037550a0a",
   "metadata": {},
   "outputs": [
    {
     "name": "stdout",
     "output_type": "stream",
     "text": [
      "Overwriting Mes4.cpp\n"
     ]
    }
   ],
   "source": [
    "%%writefile Mes4.cpp\n",
    "#include \"Mes4.h\"\n",
    "\n",
    "// Constructor: solicita el mes al usuario\n",
    "Mes4::Mes4() {\n",
    "    cout << \"Ingrese el nombre de un mes: \";\n",
    "    cin >> nombreMes;\n",
    "\n",
    "    // Convertir la primera letra a mayúscula y el resto a minúsculas para mejor comparación\n",
    "    nombreMes[0] = toupper(nombreMes[0]);\n",
    "    for (size_t i = 1; i < nombreMes.length(); i++) {\n",
    "        nombreMes[i] = tolower(nombreMes[i]);\n",
    "    }\n",
    "}\n",
    "\n",
    "// Método que muestra la cantidad de días del mes\n",
    "void Mes4::mostrarDias() {\n",
    "    if (nombreMes == \"Enero\" || nombreMes == \"Marzo\" || nombreMes == \"Mayo\" ||\n",
    "        nombreMes == \"Julio\" || nombreMes == \"Agosto\" || nombreMes == \"Octubre\" || nombreMes == \"Diciembre\") {\n",
    "        cout << \"El mes de \" << nombreMes << \" tiene 31 días.\" << endl;\n",
    "    } else if (nombreMes == \"Abril\" || nombreMes == \"Junio\" || nombreMes == \"Septiembre\" || nombreMes == \"Noviembre\") {\n",
    "        cout << \"El mes de \" << nombreMes << \" tiene 30 días.\" << endl;\n",
    "    } else if (nombreMes == \"Febrero\") {\n",
    "        cout << \"El mes de febrero tiene 28 o 29 días.\" << endl;\n",
    "    } else {\n",
    "        cout << \"Error: Nombre de mes no válido.\" << endl;\n",
    "    }\n",
    "}\n"
   ]
  },
  {
   "cell_type": "code",
   "execution_count": 21,
   "id": "b12d0fed-9f03-4323-8469-b6056b85a021",
   "metadata": {},
   "outputs": [
    {
     "name": "stdout",
     "output_type": "stream",
     "text": [
      "Overwriting main4.cpp\n"
     ]
    }
   ],
   "source": [
    "%%writefile main4.cpp\n",
    "#include \"Mes4.h\"\n",
    "\n",
    "\n",
    "int main() {\n",
    "    Mes4 miMes;\n",
    "    miMes.mostrarDias();\n",
    "    return 0;\n",
    "}\n"
   ]
  },
  {
   "cell_type": "code",
   "execution_count": 22,
   "id": "0e0849b3-ba3e-4e9a-bb5a-55a131807bf5",
   "metadata": {},
   "outputs": [],
   "source": [
    "!g++ main4.cpp Mes4.cpp -o ejercicio4\n"
   ]
  },
  {
   "cell_type": "code",
   "execution_count": 23,
   "id": "db48fb64-47ff-4241-88d0-f35182974c25",
   "metadata": {},
   "outputs": [
    {
     "name": "stdout",
     "output_type": "stream",
     "text": [
      "Overwriting Zodiaco5.h\n"
     ]
    }
   ],
   "source": [
    "%%writefile Zodiaco5.h\n",
    "#ifndef ZODIACO5_H\n",
    "#define ZODIACO5_H\n",
    "\n",
    "#include <iostream>\n",
    "using namespace std;\n",
    "\n",
    "class Zodiaco5 {\n",
    "public:\n",
    "    void determinarAnimal(int anio);\n",
    "};\n",
    "\n",
    "#endif\n"
   ]
  },
  {
   "cell_type": "code",
   "execution_count": 27,
   "id": "5983722d-b85e-4d12-9334-481cfadda1de",
   "metadata": {},
   "outputs": [
    {
     "name": "stdout",
     "output_type": "stream",
     "text": [
      "Overwriting Zodiaco5.cpp\n"
     ]
    }
   ],
   "source": [
    "%%writefile Zodiaco5.cpp\n",
    "#include \"Zodiaco5.h\"\n",
    "\n",
    "void Zodiaco5::determinarAnimal(int anio) {\n",
    "    string animales[12] = {\n",
    "        \"Dragon\", \"Snake\", \"Horse\", \"Sheep\", \"Monkey\", \"Rooster\",\n",
    "        \"Dog\", \"Pig\", \"Rat\", \"OX\", \"Tiger\", \"Hare\"\n",
    "    };\n",
    "\n",
    "    int indice = (anio - 2000) % 12;\n",
    "    if (indice < 0) {\n",
    "        indice += 12;\n",
    "    }\n",
    "\n",
    "    cout << \"El año \" << anio << \" corresponde al signo del zodiaco chino: \" \n",
    "         << animales[indice] << endl;\n",
    "}\n"
   ]
  },
  {
   "cell_type": "code",
   "execution_count": 28,
   "id": "4867337d-1b69-4af7-bab0-34846d07034b",
   "metadata": {},
   "outputs": [
    {
     "name": "stdout",
     "output_type": "stream",
     "text": [
      "Overwriting main5.cpp\n"
     ]
    }
   ],
   "source": [
    "%%writefile main5.cpp\n",
    "#include \"Zodiaco5.h\"\n",
    "\n",
    "int main() {\n",
    "    int anio;\n",
    "    cout << \"Ingrese un año: \";\n",
    "    cin >> anio;\n",
    "\n",
    "    Zodiaco5 miZodiaco;\n",
    "    miZodiaco.determinarAnimal(anio);\n",
    "\n",
    "    return 0;\n",
    "}\n",
    "\n"
   ]
  },
  {
   "cell_type": "code",
   "execution_count": 29,
   "id": "991acda4-e214-4200-a9df-80fc21d510ba",
   "metadata": {},
   "outputs": [],
   "source": [
    "!g++ main5.cpp Zodiaco5.cpp -o ejercicio5\n"
   ]
  },
  {
   "cell_type": "code",
   "execution_count": 30,
   "id": "98dc9048-66e6-4276-9faf-e35aca668f42",
   "metadata": {},
   "outputs": [
    {
     "name": "stdout",
     "output_type": "stream",
     "text": [
      "Writing Nota6.h\n"
     ]
    }
   ],
   "source": [
    "%%writefile Nota6.h\n",
    "#ifndef NOTA6_H\n",
    "#define NOTA6_H\n",
    "\n",
    "#include <iostream>\n",
    "#include <string>\n",
    "using namespace std;\n",
    "\n",
    "class Nota6 {\n",
    "private:\n",
    "    string nota;     // Ejemplo: \"C4\"\n",
    "    double frecuencia;\n",
    "\n",
    "public:\n",
    "    Nota6();                 // Constructor que pide la nota al usuario\n",
    "    void calcularFrecuencia();   // Calcula la frecuencia en Hz\n",
    "    void mostrarFrecuencia();    // Muestra la frecuencia calculada\n",
    "\n",
    "private:\n",
    "    // Función auxiliar para calcular 2^exponente sin usar <cmath>\n",
    "    double potenciaDeDos(int exponente);\n",
    "};\n",
    "\n",
    "#endif\n"
   ]
  },
  {
   "cell_type": "code",
   "execution_count": 34,
   "id": "8986564f-59d4-4959-b819-469627bbb943",
   "metadata": {},
   "outputs": [
    {
     "name": "stdout",
     "output_type": "stream",
     "text": [
      "Overwriting Nota6.cpp\n"
     ]
    }
   ],
   "source": [
    "%%writefile Nota6.cpp\n",
    "#include \"Nota6.h\"\n",
    "\n",
    "Nota6::Nota6() {\n",
    "    cout << \"Ingrese la nota (por ejemplo: C4, A4, B3, etc.): \";\n",
    "    cin >> nota;\n",
    "    frecuencia = 0.0;  // Valor inicial\n",
    "}\n",
    "\n",
    "void Nota6::calcularFrecuencia() {\n",
    "    // Verificamos que la nota tenga al menos 2 caracteres (ej: 'C' y '4')\n",
    "    if (nota.size() < 2) {\n",
    "        cout << \"Formato de nota inválido.\" << endl;\n",
    "        return;\n",
    "    }\n",
    "\n",
    "    // El primer caracter es la letra (C, D, E, F, G, A o B)\n",
    "    char letra = nota[0];\n",
    "    // El segundo caracter es la octava (0-8) convertido de char a int\n",
    "    int octava = nota[1] - '0';  \n",
    "\n",
    "    // Frecuencias base para la octava 4\n",
    "    double freqBase = 0.0;\n",
    "    if (letra == 'C') {\n",
    "        freqBase = 261.63;\n",
    "    } else if (letra == 'D') {\n",
    "        freqBase = 293.66;\n",
    "    } else if (letra == 'E') {\n",
    "        freqBase = 329.63;\n",
    "    } else if (letra == 'F') {\n",
    "        freqBase = 349.23;\n",
    "    } else if (letra == 'G') {\n",
    "        freqBase = 392.00;\n",
    "    } else if (letra == 'A') {\n",
    "        freqBase = 440.00;\n",
    "    } else if (letra == 'B') {\n",
    "        freqBase = 493.88;\n",
    "    } else {\n",
    "        cout << \"Nota no válida.\" << endl;\n",
    "        return;\n",
    "    }\n",
    "\n",
    "    // Calculamos la diferencia de octavas con respecto a la octava 4\n",
    "    int diferencia = octava - 4;\n",
    "\n",
    "    // Ajustamos freqBase multiplicando o dividiendo por 2^(diferencia)\n",
    "    freqBase *= potenciaDeDos(diferencia);\n",
    "\n",
    "    // Guardamos la frecuencia calculada\n",
    "    frecuencia = freqBase;\n",
    "}\n",
    "\n",
    "void Nota6::mostrarFrecuencia() {\n",
    "    if (frecuencia == 0.0) {\n",
    "        // Significa que no se pudo calcular (nota inválida o no se llamó a calcularFrecuencia)\n",
    "        cout << \"No se pudo determinar la frecuencia de la nota \" << nota << \".\" << endl;\n",
    "    } else {\n",
    "        cout << \"La frecuencia de la nota \" << nota << \" es: \" \n",
    "             << frecuencia << \" Hz.\" << endl;\n",
    "    }\n",
    "}\n",
    "\n",
    "// Función auxiliar que calcula 2^exponente sin <cmath> (repetida multiplicación o división)\n",
    "double Nota6::potenciaDeDos(int exponente) {\n",
    "    double resultado = 1.0;\n",
    "    if (exponente > 0) {\n",
    "        for (int i = 0; i < exponente; i++) {\n",
    "            resultado *= 2.0;\n",
    "        }\n",
    "    } else if (exponente < 0) {\n",
    "        for (int i = 0; i < -exponente; i++) {\n",
    "            resultado /= 2.0;\n",
    "        }\n",
    "    }\n",
    "    return resultado;\n",
    "}\n"
   ]
  },
  {
   "cell_type": "code",
   "execution_count": 35,
   "id": "34103105-81c5-4553-958c-de4eb6a7b1f1",
   "metadata": {},
   "outputs": [
    {
     "name": "stdout",
     "output_type": "stream",
     "text": [
      "Overwriting main6.cpp\n"
     ]
    }
   ],
   "source": [
    "%%writefile main6.cpp\n",
    "#include \"Nota6.h\"\n",
    "\n",
    "int main() {\n",
    "    Nota6 miNota;            // Se pide la nota al usuario en el constructor\n",
    "    miNota.calcularFrecuencia();\n",
    "    miNota.mostrarFrecuencia();\n",
    "    return 0;\n",
    "}\n"
   ]
  },
  {
   "cell_type": "code",
   "execution_count": 37,
   "id": "96f50b42-b18b-4ea8-a2fc-31e2b9007624",
   "metadata": {},
   "outputs": [],
   "source": [
    "!g++ main6.cpp Nota6.cpp -o ejercicio6\n"
   ]
  },
  {
   "cell_type": "code",
   "execution_count": null,
   "id": "f7fc575d-0913-4982-8bab-115eced6d8ee",
   "metadata": {},
   "outputs": [],
   "source": []
  }
 ],
 "metadata": {
  "kernelspec": {
   "display_name": "Python 3 (ipykernel)",
   "language": "python",
   "name": "python3"
  },
  "language_info": {
   "codemirror_mode": {
    "name": "ipython",
    "version": 3
   },
   "file_extension": ".py",
   "mimetype": "text/x-python",
   "name": "python",
   "nbconvert_exporter": "python",
   "pygments_lexer": "ipython3",
   "version": "3.12.3"
  }
 },
 "nbformat": 4,
 "nbformat_minor": 5
}
