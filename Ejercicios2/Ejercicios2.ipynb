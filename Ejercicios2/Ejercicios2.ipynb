{
 "cells": [
  {
   "cell_type": "code",
   "execution_count": 1,
   "id": "40804215-7eb4-463c-bc92-557988f152f5",
   "metadata": {},
   "outputs": [
    {
     "name": "stdout",
     "output_type": "stream",
     "text": [
      "Writing Numero1.h\n"
     ]
    }
   ],
   "source": [
    "%%writefile Numero1.h\n",
    "#ifndef NUMERO1_H\n",
    "#define NUMERO1_H\n",
    "\n",
    "#include <iostream>\n",
    "using namespace std;\n",
    "\n",
    "class Numero1 {\n",
    "private:\n",
    "    int valor;\n",
    "\n",
    "public:\n",
    "    Numero1();  // Constructor\n",
    "    bool esPar();  // Método para verificar si es par\n",
    "    void mostrarResultado();  // Método para mostrar el resultado\n",
    "};\n",
    "\n",
    "#endif\n"
   ]
  },
  {
   "cell_type": "code",
   "execution_count": 2,
   "id": "f795dbba-0af4-44dc-8dc5-974a60e8aeab",
   "metadata": {},
   "outputs": [
    {
     "name": "stdout",
     "output_type": "stream",
     "text": [
      "Writing Numero1.cpp\n"
     ]
    }
   ],
   "source": [
    "%%writefile Numero1.cpp\n",
    "#include \"Numero1.h\"\n",
    "\n",
    "// Constructor: pide un número al usuario\n",
    "Numero1::Numero1() {\n",
    "    cout << \"Ingrese un número entero: \";\n",
    "    cin >> valor;\n",
    "}\n",
    "\n",
    "// Método que verifica si el número es par\n",
    "bool Numero1::esPar() {\n",
    "    return valor % 2 == 0;\n",
    "}\n",
    "\n",
    "// Método que muestra si el número es par o impar\n",
    "void Numero1::mostrarResultado() {\n",
    "    if (esPar()) {\n",
    "        cout << \"El número \" << valor << \" es par.\" << endl;\n",
    "    } else {\n",
    "        cout << \"El número \" << valor << \" es impar.\" << endl;\n",
    "    }\n",
    "}\n"
   ]
  },
  {
   "cell_type": "code",
   "execution_count": 3,
   "id": "86a8dc1a-fd4b-4f96-a27c-ae63dd3ddbac",
   "metadata": {},
   "outputs": [
    {
     "name": "stdout",
     "output_type": "stream",
     "text": [
      "Writing main1.cpp\n"
     ]
    }
   ],
   "source": [
    "%%writefile main1.cpp\n",
    "#include \"Numero1.h\"\n",
    "\n",
    "int main() {\n",
    "    Numero1 miNumero;\n",
    "    miNumero.mostrarResultado();\n",
    "    return 0;\n",
    "}\n"
   ]
  },
  {
   "cell_type": "code",
   "execution_count": 4,
   "id": "4a4f423a-5a94-43c6-8c52-514d46e91c3a",
   "metadata": {},
   "outputs": [],
   "source": [
    "!g++ main1.cpp Numero1.cpp -o ejercicio1\n"
   ]
  },
  {
   "cell_type": "code",
   "execution_count": null,
   "id": "34f59624-1476-4b4d-8768-af5f002f4214",
   "metadata": {},
   "outputs": [],
   "source": []
  }
 ],
 "metadata": {
  "kernelspec": {
   "display_name": "Python 3 (ipykernel)",
   "language": "python",
   "name": "python3"
  },
  "language_info": {
   "codemirror_mode": {
    "name": "ipython",
    "version": 3
   },
   "file_extension": ".py",
   "mimetype": "text/x-python",
   "name": "python",
   "nbconvert_exporter": "python",
   "pygments_lexer": "ipython3",
   "version": "3.12.3"
  }
 },
 "nbformat": 4,
 "nbformat_minor": 5
}
